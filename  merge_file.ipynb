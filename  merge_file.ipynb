{
 "cells": [
  {
   "cell_type": "code",
   "execution_count": 1,
   "id": "853cb859-0343-423b-943a-47104ceb98f5",
   "metadata": {},
   "outputs": [],
   "source": [
    "import pandas as pd\n",
    "import os"
   ]
  },
  {
   "cell_type": "markdown",
   "id": "854944b0-5e50-4eed-97be-ff1da79dcda1",
   "metadata": {},
   "source": [
    "### Task1) merge the 12 month of sales file into single file"
   ]
  },
  {
   "cell_type": "code",
   "execution_count": 3,
   "id": "f9692c96-a337-4419-ae8e-130ce0c06962",
   "metadata": {},
   "outputs": [],
   "source": [
    "# put all files into one  folder\n",
    "folder_path = 'C:/Users/dell/Desktop/ jupiter/PythonCoding/Sales Analysis'"
   ]
  },
  {
   "cell_type": "code",
   "execution_count": 4,
   "id": "89a970d8-9e3e-4db1-8745-ece4cabcf80f",
   "metadata": {},
   "outputs": [
    {
     "name": "stdout",
     "output_type": "stream",
     "text": [
      " Files combined and saved Successefully\n"
     ]
    }
   ],
   "source": [
    "# Get list of csv files in that folder\n",
    "all_files = [file for file in os.listdir(folder_path) if file.endswith('.csv')]\n",
    "\n",
    "#  Read and concatenate them\n",
    "data = pd.DataFrame()\n",
    "for file in all_files:\n",
    "    df =pd.read_csv(os.path.join(folder_path, file))\n",
    "    data= pd.concat([data,df], ignore_index = True)\n",
    "    \n",
    "# Save to a new CSV file\n",
    "data.to_csv('combined_months.csv', index = False) \n",
    "print(\" Files combined and saved Successefully\")                         "
   ]
  },
  {
   "cell_type": "code",
   "execution_count": null,
   "id": "e527060d-a72d-4d79-8fa0-b2052e2f025f",
   "metadata": {},
   "outputs": [],
   "source": []
  }
 ],
 "metadata": {
  "kernelspec": {
   "display_name": "Python 3 (ipykernel)",
   "language": "python",
   "name": "python3"
  },
  "language_info": {
   "codemirror_mode": {
    "name": "ipython",
    "version": 3
   },
   "file_extension": ".py",
   "mimetype": "text/x-python",
   "name": "python",
   "nbconvert_exporter": "python",
   "pygments_lexer": "ipython3",
   "version": "3.12.7"
  }
 },
 "nbformat": 4,
 "nbformat_minor": 5
}
